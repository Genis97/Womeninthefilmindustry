{
 "cells": [
  {
   "cell_type": "markdown",
   "id": "ed1679fc",
   "metadata": {
    "slideshow": {
     "slide_type": "slide"
    }
   },
   "source": [
    "**Female representation in Cinema**\n",
    "![portada](http://www.tasteofcinema.com/wp-content/uploads/2013/05/female-movie-characters.jpg)"
   ]
  },
  {
   "cell_type": "code",
   "execution_count": 3,
   "id": "f45687cb",
   "metadata": {
    "slideshow": {
     "slide_type": "slide"
    }
   },
   "outputs": [],
   "source": [
    "import pandas as pd\n",
    "import matplotlib.pyplot as plt\n",
    "from scipy.stats import pointbiserialr\n",
    "import numpy as np\n",
    "import seaborn as sns"
   ]
  },
  {
   "cell_type": "code",
   "execution_count": 4,
   "id": "f2ca6953",
   "metadata": {
    "slideshow": {
     "slide_type": "skip"
    }
   },
   "outputs": [],
   "source": [
    "pelis = pd.read_csv(r\"C:\\Users\\Genís\\Desktop\\IRONHACK\\Módulo 2\\Projecte/pelis2.csv\")"
   ]
  },
  {
   "cell_type": "code",
   "execution_count": 60,
   "id": "e489ee15",
   "metadata": {
    "scrolled": false,
    "slideshow": {
     "slide_type": "slide"
    }
   },
   "outputs": [
    {
     "name": "stdout",
     "output_type": "stream",
     "text": [
      "                                                   name  score\n",
      "2443                           The Shawshank Redemption    9.3\n",
      "5243                                    The Dark Knight    9.0\n",
      "2247                                   Schindler's List    8.9\n",
      "2444                                       Pulp Fiction    8.9\n",
      "4245      The Lord of the Rings: The Return of the King    8.9\n",
      "5643                                          Inception    8.8\n",
      "3845  The Lord of the Rings: The Fellowship of the Ring    8.8\n",
      "2445                                       Forrest Gump    8.8\n",
      "3444                                         Fight Club    8.8\n",
      "4048              The Lord of the Rings: The Two Towers    8.7\n"
     ]
    }
   ],
   "source": [
    "top_10_pelis = pelis.sort_values('score', ascending=False).head(10)[['name', 'score']]\n",
    "print(top_10_pelis)"
   ]
  },
  {
   "cell_type": "code",
   "execution_count": 5,
   "id": "91f6260b",
   "metadata": {
    "slideshow": {
     "slide_type": "skip"
    }
   },
   "outputs": [
    {
     "data": {
      "text/html": [
       "<div>\n",
       "<style scoped>\n",
       "    .dataframe tbody tr th:only-of-type {\n",
       "        vertical-align: middle;\n",
       "    }\n",
       "\n",
       "    .dataframe tbody tr th {\n",
       "        vertical-align: top;\n",
       "    }\n",
       "\n",
       "    .dataframe thead th {\n",
       "        text-align: right;\n",
       "    }\n",
       "</style>\n",
       "<table border=\"1\" class=\"dataframe\">\n",
       "  <thead>\n",
       "    <tr style=\"text-align: right;\">\n",
       "      <th></th>\n",
       "      <th>year</th>\n",
       "      <th>score</th>\n",
       "      <th>votes</th>\n",
       "      <th>budget</th>\n",
       "      <th>gross</th>\n",
       "      <th>runtime</th>\n",
       "    </tr>\n",
       "  </thead>\n",
       "  <tbody>\n",
       "    <tr>\n",
       "      <th>count</th>\n",
       "      <td>7668.000000</td>\n",
       "      <td>7665.000000</td>\n",
       "      <td>7.665000e+03</td>\n",
       "      <td>7.668000e+03</td>\n",
       "      <td>7.479000e+03</td>\n",
       "      <td>7664.000000</td>\n",
       "    </tr>\n",
       "    <tr>\n",
       "      <th>mean</th>\n",
       "      <td>2000.405451</td>\n",
       "      <td>6.390411</td>\n",
       "      <td>8.810850e+04</td>\n",
       "      <td>3.558988e+07</td>\n",
       "      <td>7.850054e+07</td>\n",
       "      <td>107.261613</td>\n",
       "    </tr>\n",
       "    <tr>\n",
       "      <th>std</th>\n",
       "      <td>11.153508</td>\n",
       "      <td>0.968842</td>\n",
       "      <td>1.633238e+05</td>\n",
       "      <td>3.510036e+07</td>\n",
       "      <td>1.657251e+08</td>\n",
       "      <td>18.581247</td>\n",
       "    </tr>\n",
       "    <tr>\n",
       "      <th>min</th>\n",
       "      <td>1980.000000</td>\n",
       "      <td>1.900000</td>\n",
       "      <td>7.000000e+00</td>\n",
       "      <td>3.000000e+03</td>\n",
       "      <td>3.090000e+02</td>\n",
       "      <td>55.000000</td>\n",
       "    </tr>\n",
       "    <tr>\n",
       "      <th>25%</th>\n",
       "      <td>1991.000000</td>\n",
       "      <td>5.800000</td>\n",
       "      <td>9.100000e+03</td>\n",
       "      <td>1.400000e+07</td>\n",
       "      <td>4.532056e+06</td>\n",
       "      <td>95.000000</td>\n",
       "    </tr>\n",
       "    <tr>\n",
       "      <th>50%</th>\n",
       "      <td>2000.000000</td>\n",
       "      <td>6.500000</td>\n",
       "      <td>3.300000e+04</td>\n",
       "      <td>3.558988e+07</td>\n",
       "      <td>2.020576e+07</td>\n",
       "      <td>104.000000</td>\n",
       "    </tr>\n",
       "    <tr>\n",
       "      <th>75%</th>\n",
       "      <td>2010.000000</td>\n",
       "      <td>7.100000</td>\n",
       "      <td>9.300000e+04</td>\n",
       "      <td>3.558988e+07</td>\n",
       "      <td>7.601669e+07</td>\n",
       "      <td>116.000000</td>\n",
       "    </tr>\n",
       "    <tr>\n",
       "      <th>max</th>\n",
       "      <td>2020.000000</td>\n",
       "      <td>9.300000</td>\n",
       "      <td>2.400000e+06</td>\n",
       "      <td>3.560000e+08</td>\n",
       "      <td>2.847246e+09</td>\n",
       "      <td>366.000000</td>\n",
       "    </tr>\n",
       "  </tbody>\n",
       "</table>\n",
       "</div>"
      ],
      "text/plain": [
       "              year        score         votes        budget         gross  \\\n",
       "count  7668.000000  7665.000000  7.665000e+03  7.668000e+03  7.479000e+03   \n",
       "mean   2000.405451     6.390411  8.810850e+04  3.558988e+07  7.850054e+07   \n",
       "std      11.153508     0.968842  1.633238e+05  3.510036e+07  1.657251e+08   \n",
       "min    1980.000000     1.900000  7.000000e+00  3.000000e+03  3.090000e+02   \n",
       "25%    1991.000000     5.800000  9.100000e+03  1.400000e+07  4.532056e+06   \n",
       "50%    2000.000000     6.500000  3.300000e+04  3.558988e+07  2.020576e+07   \n",
       "75%    2010.000000     7.100000  9.300000e+04  3.558988e+07  7.601669e+07   \n",
       "max    2020.000000     9.300000  2.400000e+06  3.560000e+08  2.847246e+09   \n",
       "\n",
       "           runtime  \n",
       "count  7664.000000  \n",
       "mean    107.261613  \n",
       "std      18.581247  \n",
       "min      55.000000  \n",
       "25%      95.000000  \n",
       "50%     104.000000  \n",
       "75%     116.000000  \n",
       "max     366.000000  "
      ]
     },
     "execution_count": 5,
     "metadata": {},
     "output_type": "execute_result"
    }
   ],
   "source": [
    "pelis.describe()"
   ]
  },
  {
   "cell_type": "markdown",
   "id": "f62620fc",
   "metadata": {
    "slideshow": {
     "slide_type": "slide"
    }
   },
   "source": [
    "**DIRECTOR**"
   ]
  },
  {
   "cell_type": "code",
   "execution_count": 6,
   "id": "3e555958",
   "metadata": {
    "slideshow": {
     "slide_type": "subslide"
    }
   },
   "outputs": [
    {
     "data": {
      "text/plain": [
       "male      7065\n",
       "female     603\n",
       "Name: gender_director, dtype: int64"
      ]
     },
     "execution_count": 6,
     "metadata": {},
     "output_type": "execute_result"
    }
   ],
   "source": [
    "pelis['gender_director'].value_counts()"
   ]
  },
  {
   "cell_type": "code",
   "execution_count": 7,
   "id": "79405a2a",
   "metadata": {
    "scrolled": false,
    "slideshow": {
     "slide_type": "subslide"
    }
   },
   "outputs": [
    {
     "data": {
      "text/plain": [
       "<AxesSubplot:>"
      ]
     },
     "execution_count": 7,
     "metadata": {},
     "output_type": "execute_result"
    },
    {
     "data": {
      "image/png": "[encoded data removed]",
      "text/plain": [
       "<Figure size 432x288 with 1 Axes>"
      ]
     },
     "metadata": {
      "needs_background": "light"
     },
     "output_type": "display_data"
    }
   ],
   "source": [
    "pelis.gender_director.value_counts().plot(kind=\"bar\")"
   ]
  },
  {
   "cell_type": "markdown",
   "id": "198fb40c",
   "metadata": {
    "slideshow": {
     "slide_type": "slide"
    }
   },
   "source": [
    "Presupuesto"
   ]
  },
  {
   "cell_type": "code",
   "execution_count": 8,
   "id": "fb14c1c6",
   "metadata": {
    "slideshow": {
     "slide_type": "subslide"
    }
   },
   "outputs": [
    {
     "data": {
      "text/plain": [
       "35589876.19265138"
      ]
     },
     "execution_count": 8,
     "metadata": {},
     "output_type": "execute_result"
    }
   ],
   "source": [
    "media_pres_total = pelis['budget'].mean()\n",
    "media_pres_total"
   ]
  },
  {
   "cell_type": "code",
   "execution_count": 9,
   "id": "d7db2b59",
   "metadata": {
    "scrolled": true,
    "slideshow": {
     "slide_type": "subslide"
    }
   },
   "outputs": [
    {
     "data": {
      "text/plain": [
       "30389784.14165805"
      ]
     },
     "execution_count": 9,
     "metadata": {},
     "output_type": "execute_result"
    }
   ],
   "source": [
    "pelis[pelis['gender_director']=='female']['budget'].mean()"
   ]
  },
  {
   "cell_type": "code",
   "execution_count": 10,
   "id": "703e8364",
   "metadata": {
    "scrolled": true,
    "slideshow": {
     "slide_type": "subslide"
    }
   },
   "outputs": [
    {
     "data": {
      "text/plain": [
       "36033705.705283776"
      ]
     },
     "execution_count": 10,
     "metadata": {},
     "output_type": "execute_result"
    }
   ],
   "source": [
    "pelis[pelis['gender_director']=='male']['budget'].mean()"
   ]
  },
  {
   "cell_type": "markdown",
   "id": "297ee3f8",
   "metadata": {
    "slideshow": {
     "slide_type": "slide"
    }
   },
   "source": [
    "Beneficio"
   ]
  },
  {
   "cell_type": "code",
   "execution_count": 11,
   "id": "a9ccc601",
   "metadata": {
    "slideshow": {
     "slide_type": "subslide"
    }
   },
   "outputs": [
    {
     "data": {
      "text/plain": [
       "78500541.01778312"
      ]
     },
     "execution_count": 11,
     "metadata": {},
     "output_type": "execute_result"
    }
   ],
   "source": [
    "media_ben_total = pelis['gross'].mean()\n",
    "media_ben_total"
   ]
  },
  {
   "cell_type": "code",
   "execution_count": 12,
   "id": "2d265af8",
   "metadata": {
    "scrolled": true,
    "slideshow": {
     "slide_type": "subslide"
    }
   },
   "outputs": [
    {
     "data": {
      "text/plain": [
       "55201177.58743633"
      ]
     },
     "execution_count": 12,
     "metadata": {},
     "output_type": "execute_result"
    }
   ],
   "source": [
    "pelis[pelis['gender_director']=='female']['gross'].mean()"
   ]
  },
  {
   "cell_type": "code",
   "execution_count": 13,
   "id": "af30ad94",
   "metadata": {
    "slideshow": {
     "slide_type": "subslide"
    }
   },
   "outputs": [
    {
     "data": {
      "text/plain": [
       "80492315.3371553"
      ]
     },
     "execution_count": 13,
     "metadata": {},
     "output_type": "execute_result"
    }
   ],
   "source": [
    "pelis[pelis['gender_director']=='male']['gross'].mean()"
   ]
  },
  {
   "cell_type": "markdown",
   "id": "8c64badf",
   "metadata": {
    "slideshow": {
     "slide_type": "slide"
    }
   },
   "source": [
    "Puntuación"
   ]
  },
  {
   "cell_type": "code",
   "execution_count": 14,
   "id": "4fb3cb48",
   "metadata": {
    "slideshow": {
     "slide_type": "subslide"
    }
   },
   "outputs": [
    {
     "data": {
      "text/plain": [
       "6.390410958904098"
      ]
     },
     "execution_count": 14,
     "metadata": {},
     "output_type": "execute_result"
    }
   ],
   "source": [
    "media_punt_total = pelis['score'].mean()\n",
    "media_punt_total"
   ]
  },
  {
   "cell_type": "code",
   "execution_count": 15,
   "id": "510f7c89",
   "metadata": {
    "slideshow": {
     "slide_type": "subslide"
    }
   },
   "outputs": [
    {
     "data": {
      "text/plain": [
       "6.317412935323391"
      ]
     },
     "execution_count": 15,
     "metadata": {},
     "output_type": "execute_result"
    }
   ],
   "source": [
    "pelis[pelis['gender_director']=='female']['score'].mean()"
   ]
  },
  {
   "cell_type": "code",
   "execution_count": 16,
   "id": "aa966e35",
   "metadata": {
    "slideshow": {
     "slide_type": "subslide"
    }
   },
   "outputs": [
    {
     "data": {
      "text/plain": [
       "6.3966440101953905"
      ]
     },
     "execution_count": 16,
     "metadata": {},
     "output_type": "execute_result"
    }
   ],
   "source": [
    "pelis[pelis['gender_director']=='male']['score'].mean()"
   ]
  },
  {
   "cell_type": "markdown",
   "id": "e7245a3f",
   "metadata": {
    "slideshow": {
     "slide_type": "slide"
    }
   },
   "source": [
    "**STAR**"
   ]
  },
  {
   "cell_type": "code",
   "execution_count": 17,
   "id": "e3f21f86",
   "metadata": {
    "scrolled": true,
    "slideshow": {
     "slide_type": "subslide"
    }
   },
   "outputs": [
    {
     "data": {
      "text/plain": [
       "male      5759\n",
       "female    1908\n",
       "Name: gender_star, dtype: int64"
      ]
     },
     "execution_count": 17,
     "metadata": {},
     "output_type": "execute_result"
    }
   ],
   "source": [
    "pelis['gender_star'].value_counts()"
   ]
  },
  {
   "cell_type": "code",
   "execution_count": 18,
   "id": "fcdb62cf",
   "metadata": {
    "slideshow": {
     "slide_type": "subslide"
    }
   },
   "outputs": [
    {
     "data": {
      "text/plain": [
       "<AxesSubplot:>"
      ]
     },
     "execution_count": 18,
     "metadata": {},
     "output_type": "execute_result"
    },
    {
     "data": {
      "image/png": "[encoded data removed]",
      "text/plain": [
       "<Figure size 432x288 with 1 Axes>"
      ]
     },
     "metadata": {
      "needs_background": "light"
     },
     "output_type": "display_data"
    }
   ],
   "source": [
    "pelis.gender_star.value_counts().plot(kind=\"bar\")"
   ]
  },
  {
   "cell_type": "markdown",
   "id": "5bda1ffe",
   "metadata": {
    "slideshow": {
     "slide_type": "slide"
    }
   },
   "source": [
    "Presupuesto"
   ]
  },
  {
   "cell_type": "code",
   "execution_count": 19,
   "id": "8ace88e4",
   "metadata": {
    "slideshow": {
     "slide_type": "subslide"
    }
   },
   "outputs": [
    {
     "data": {
      "text/plain": [
       "35589876.19265138"
      ]
     },
     "execution_count": 19,
     "metadata": {},
     "output_type": "execute_result"
    }
   ],
   "source": [
    "media_pres_total"
   ]
  },
  {
   "cell_type": "code",
   "execution_count": 20,
   "id": "2c72eb3a",
   "metadata": {
    "slideshow": {
     "slide_type": "subslide"
    }
   },
   "outputs": [
    {
     "data": {
      "text/plain": [
       "30758747.99007219"
      ]
     },
     "execution_count": 20,
     "metadata": {},
     "output_type": "execute_result"
    }
   ],
   "source": [
    "pelis[pelis['gender_star']=='female']['budget'].mean()"
   ]
  },
  {
   "cell_type": "code",
   "execution_count": 21,
   "id": "82080860",
   "metadata": {
    "slideshow": {
     "slide_type": "subslide"
    }
   },
   "outputs": [
    {
     "data": {
      "text/plain": [
       "37196588.9769387"
      ]
     },
     "execution_count": 21,
     "metadata": {},
     "output_type": "execute_result"
    }
   ],
   "source": [
    "pelis[pelis['gender_star']=='male']['budget'].mean()"
   ]
  },
  {
   "cell_type": "markdown",
   "id": "f6f13070",
   "metadata": {
    "slideshow": {
     "slide_type": "slide"
    }
   },
   "source": [
    "Beneficio"
   ]
  },
  {
   "cell_type": "code",
   "execution_count": 22,
   "id": "1bc8b1f8",
   "metadata": {
    "slideshow": {
     "slide_type": "subslide"
    }
   },
   "outputs": [
    {
     "data": {
      "text/plain": [
       "78500541.01778312"
      ]
     },
     "execution_count": 22,
     "metadata": {},
     "output_type": "execute_result"
    }
   ],
   "source": [
    "media_ben_total"
   ]
  },
  {
   "cell_type": "code",
   "execution_count": 23,
   "id": "bbb92922",
   "metadata": {
    "slideshow": {
     "slide_type": "subslide"
    }
   },
   "outputs": [
    {
     "data": {
      "text/plain": [
       "61297494.14655172"
      ]
     },
     "execution_count": 23,
     "metadata": {},
     "output_type": "execute_result"
    }
   ],
   "source": [
    "pelis[pelis['gender_star']=='female']['gross'].mean()"
   ]
  },
  {
   "cell_type": "code",
   "execution_count": 24,
   "id": "b61fae59",
   "metadata": {
    "slideshow": {
     "slide_type": "subslide"
    }
   },
   "outputs": [
    {
     "data": {
      "text/plain": [
       "84178800.84225503"
      ]
     },
     "execution_count": 24,
     "metadata": {},
     "output_type": "execute_result"
    }
   ],
   "source": [
    "pelis[pelis['gender_star']=='male']['gross'].mean()"
   ]
  },
  {
   "cell_type": "markdown",
   "id": "99c02386",
   "metadata": {
    "slideshow": {
     "slide_type": "slide"
    }
   },
   "source": [
    "Puntuación"
   ]
  },
  {
   "cell_type": "code",
   "execution_count": 25,
   "id": "fb71118b",
   "metadata": {
    "scrolled": true,
    "slideshow": {
     "slide_type": "subslide"
    }
   },
   "outputs": [
    {
     "data": {
      "text/plain": [
       "6.390410958904098"
      ]
     },
     "execution_count": 25,
     "metadata": {},
     "output_type": "execute_result"
    }
   ],
   "source": [
    "media_punt_total  "
   ]
  },
  {
   "cell_type": "code",
   "execution_count": 26,
   "id": "e4b05088",
   "metadata": {
    "slideshow": {
     "slide_type": "subslide"
    }
   },
   "outputs": [
    {
     "data": {
      "text/plain": [
       "6.298479286837968"
      ]
     },
     "execution_count": 26,
     "metadata": {},
     "output_type": "execute_result"
    }
   ],
   "source": [
    "pelis[pelis['gender_star']=='female']['score'].mean()"
   ]
  },
  {
   "cell_type": "code",
   "execution_count": 27,
   "id": "b9c967d0",
   "metadata": {
    "slideshow": {
     "slide_type": "subslide"
    }
   },
   "outputs": [
    {
     "data": {
      "text/plain": [
       "6.420531526836869"
      ]
     },
     "execution_count": 27,
     "metadata": {},
     "output_type": "execute_result"
    }
   ],
   "source": [
    "pelis[pelis['gender_star']=='male']['score'].mean()"
   ]
  },
  {
   "cell_type": "markdown",
   "id": "ed382752",
   "metadata": {
    "slideshow": {
     "slide_type": "slide"
    }
   },
   "source": [
    "**Correlaciones**"
   ]
  },
  {
   "cell_type": "code",
   "execution_count": 28,
   "id": "10b5fd05",
   "metadata": {
    "slideshow": {
     "slide_type": "subslide"
    }
   },
   "outputs": [
    {
     "data": {
      "text/plain": [
       "0.06455373015322431"
      ]
     },
     "execution_count": 28,
     "metadata": {},
     "output_type": "execute_result"
    }
   ],
   "source": [
    "correlation = pelis['budget'].corr(pelis['score'])\n",
    "correlation\n",
    "#Vemos que se acerca a una correlación positiva, donde las 2 variables siguen\n",
    "#un mismo camino. Las películas con mayor presupuesto tienden a tener mayor nota.\n"
   ]
  },
  {
   "cell_type": "markdown",
   "id": "2a07c9e9",
   "metadata": {
    "slideshow": {
     "slide_type": "slide"
    }
   },
   "source": [
    "Comparamos budget con género de director:"
   ]
  },
  {
   "cell_type": "code",
   "execution_count": 29,
   "id": "f5ebc5b7",
   "metadata": {
    "slideshow": {
     "slide_type": "skip"
    }
   },
   "outputs": [
    {
     "name": "stdout",
     "output_type": "stream",
     "text": [
      "Correlación entre género y presupuesto: -0.043284291771585125\n",
      "Valor p: 0.00014977659909856133\n"
     ]
    }
   ],
   "source": [
    "# Llenar valores faltantes en la columna budget con la media\n",
    "mean_budget = np.mean(pelis['budget'][~pelis['budget'].isna()])\n",
    "pelis['budget'].fillna(mean_budget, inplace=True)\n",
    "\n",
    "# Asignar valor numérico a cada género de director\n",
    "pelis['gender_num_director'] = pelis['gender_director'].apply(lambda x: 0 if x == 'male' else 1)\n",
    "\n",
    "# Calcular la correlación entre género y presupuesto\n",
    "corr, p_value = pointbiserialr(pelis['gender_num_director'], pelis['budget'])\n",
    "\n",
    "print('Correlación entre género y presupuesto:', corr)\n",
    "print('Valor p:', p_value)\n"
   ]
  },
  {
   "cell_type": "code",
   "execution_count": 30,
   "id": "f818e100",
   "metadata": {
    "slideshow": {
     "slide_type": "subslide"
    }
   },
   "outputs": [
    {
     "data": {
      "text/plain": [
       "'Podemos ver que la correlación entre género y presupuesto es negativa, \\ntratandose de una correlación débil entre estas dos variables. Esto sugiere\\nque a medida que el presupuesto aumenta, el género femenino se ve menos representado.\\n\\nEl valor p indica que es altamente probable que suceda.\\n'"
      ]
     },
     "execution_count": 30,
     "metadata": {},
     "output_type": "execute_result"
    }
   ],
   "source": [
    "'''Correlación entre género director y presupuesto: -0.043284291771585125\n",
    "Se trata de una correlación débil entre estas dos variables. Esto sugiere\n",
    "que a medida que el presupuesto aumenta, el género femenino se ve menos representado.\n",
    "\n",
    "El valor p: 0.0001497. Indica que es altamente probable que suceda esta correlación.\n",
    "'''"
   ]
  },
  {
   "cell_type": "markdown",
   "id": "6634c163",
   "metadata": {
    "slideshow": {
     "slide_type": "slide"
    }
   },
   "source": [
    "Comparamos budget con género de star:"
   ]
  },
  {
   "cell_type": "code",
   "execution_count": 31,
   "id": "be24b231",
   "metadata": {
    "slideshow": {
     "slide_type": "skip"
    }
   },
   "outputs": [
    {
     "name": "stdout",
     "output_type": "stream",
     "text": [
      "Correlación entre género y presupuesto: -0.0795106924615956\n",
      "Valor p: 3.115184751248724e-12\n"
     ]
    }
   ],
   "source": [
    "# Llenar valores faltantes en la columna budget con la media\n",
    "mean_budget = np.mean(pelis['budget'][~pelis['budget'].isna()])\n",
    "pelis['budget'].fillna(mean_budget, inplace=True)\n",
    "\n",
    "# Asignar valor numérico a cada género de director\n",
    "pelis['gender_num_star'] = pelis['gender_star'].apply(lambda x: 0 if x == 'male' else 1)\n",
    "\n",
    "# Calcular la correlación entre género y presupuesto\n",
    "corr, p_value = pointbiserialr(pelis['gender_num_star'], pelis['budget'])\n",
    "\n",
    "print('Correlación entre género y presupuesto:', corr)\n",
    "print('Valor p:', p_value)\n"
   ]
  },
  {
   "cell_type": "code",
   "execution_count": 33,
   "id": "edd05d23",
   "metadata": {
    "scrolled": false,
    "slideshow": {
     "slide_type": "subslide"
    }
   },
   "outputs": [
    {
     "data": {
      "text/plain": [
       "'\\nLos resultados indican que hay una correlación negativa débil entre el género de la estrella de la película \\ny el presupuesto de la película. La magnitud de la correlación es de -0.079, lo que sugiere que cuanto mayor es el presupuesto \\nde una película, es menos probable que tenga una estrella femenina como protagonista.\\n\\nEl valor p es muy pequeño, por lo cual sugiere que los resultados son altamente significativos estadísticamente.\\nEs muy poco probable que los resultados sean casualidad o azar.\\nAl ser la correlación débil, no se puede afirmar que exista una relación determinante entre el género de la estrella y el presupuesto de la película.\\n'"
      ]
     },
     "execution_count": 33,
     "metadata": {},
     "output_type": "execute_result"
    }
   ],
   "source": [
    "'''\n",
    "La magnitud de la correlación entre genero star y presupuesto es de -0.079, lo que sugiere que cuanto mayor es el presupuesto \n",
    "de una película, es menos probable que tenga una estrella femenina como protagonista (correlación negativa débil entre género\n",
    "de la estrella y presupuesto de la película)\n",
    "\n",
    "El valor p es muy pequeño (3.115184751248724e-12), por lo cual sugiere que los resultados son altamente significativos estadísticamente.\n",
    "Es muy poco probable que los resultados sean casualidad o azar.\n",
    "'''"
   ]
  },
  {
   "cell_type": "markdown",
   "id": "b6574b52",
   "metadata": {
    "slideshow": {
     "slide_type": "slide"
    }
   },
   "source": [
    "**Directoras**"
   ]
  },
  {
   "cell_type": "code",
   "execution_count": 81,
   "id": "005a94c8",
   "metadata": {
    "slideshow": {
     "slide_type": "subslide"
    }
   },
   "outputs": [
    {
     "name": "stdout",
     "output_type": "stream",
     "text": [
      "                            name                  director  score\n",
      "3325          Kuch Kuch Hota Hai               Karan Johar    7.6\n",
      "3278         The Prince of Egypt            Brenda Chapman    7.1\n",
      "3266             You've Got Mail               Nora Ephron    6.7\n",
      "3312                  Half Baked               Tamra Davis    6.7\n",
      "3363                     Strike!           Sarah Kernochan    6.7\n",
      "3250             The Parent Trap              Nancy Meyers    6.6\n",
      "3377                    High Art           Lisa Cholodenko    6.6\n",
      "3403      Slums of Beverly Hills            Tamara Jenkins    6.6\n",
      "3432               Place Vendôme             Nicole Garcia    6.3\n",
      "3257                 Deep Impact                Mimi Leder    6.2\n",
      "3383                   Senseless         Penelope Spheeris    6.1\n",
      "3344                    Madeline  Daisy von Scherler Mayer    6.0\n",
      "3371               Dance with Me              Randa Haines    5.9\n",
      "3286                Urban Legend              Jamie Blanks    5.6\n",
      "3420  I'll Be Home for Christmas            Arlene Sanford    5.5\n",
      "3340             Doctor Dolittle              Betty Thomas    5.4\n"
     ]
    }
   ],
   "source": [
    "#Año 1998 (mayor budget y gross)\n",
    "pelis_1998_female_director = pelis[(pelis['year'] == 1998) & (pelis['gender_director'] == 'female')][['name', 'director', 'score']].sort_values('score', ascending=False)\n",
    "print(pelis_1998_female_director)"
   ]
  },
  {
   "cell_type": "code",
   "execution_count": 80,
   "id": "d2422d02",
   "metadata": {
    "collapsed": true,
    "slideshow": {
     "slide_type": "subslide"
    }
   },
   "outputs": [
    {
     "name": "stdout",
     "output_type": "stream",
     "text": [
      "                                            name               director  score\n",
      "4334  Spring, Summer, Fall, Winter... and Spring             Kim Ki-duk    8.0\n",
      "4253                         Lost in Translation          Sofia Coppola    7.7\n",
      "4434                          My Life Without Me          Isabel Coixet    7.5\n",
      "4390                           American Splendor  Shari Springer Berman    7.4\n",
      "4267                                     Monster          Patty Jenkins    7.3\n",
      "4256                         The Matrix Reloaded         Lana Wachowski    7.2\n",
      "4262                                    Thirteen    Catherine Hardwicke    6.8\n",
      "4317                        Under the Tuscan Sun           Audrey Wells    6.8\n",
      "4268                      The Matrix Revolutions         Lana Wachowski    6.7\n",
      "4305                      Something's Gotta Give           Nancy Meyers    6.7\n",
      "4420                                 Nathalie...          Anne Fontaine    6.3\n",
      "4426                                      Sylvia        Christine Jeffs    6.3\n",
      "4439                                 How to Deal           Clare Kilner    5.6\n",
      "4286                                  In the Cut           Jane Campion    5.3\n",
      "4300             Charlie's Angels: Full Throttle                    McG    4.9\n",
      "4402                                Chasing Papi          Linda Mendoza    4.8\n"
     ]
    }
   ],
   "source": [
    "#Año 2003 (mayor budget y gross)\n",
    "pelis_2003_female_director = pelis[(pelis['year'] == 2003) & (pelis['gender_director'] == 'female')][['name', 'director', 'score']].sort_values('score', ascending=False)\n",
    "print(pelis_2003_female_director)"
   ]
  },
  {
   "cell_type": "code",
   "execution_count": 78,
   "id": "eb3e827e",
   "metadata": {
    "collapsed": true,
    "slideshow": {
     "slide_type": "subslide"
    }
   },
   "outputs": [
    {
     "name": "stdout",
     "output_type": "stream",
     "text": [
      "                                         name  year                director  \\\n",
      "7054                               Home Again  2017     Hallie Meyers-Shyer   \n",
      "7062                             Wonder Woman  2017           Patty Jenkins   \n",
      "7075  Star Wars: Episode VIII - The Last Jedi  2017            Rian Johnson   \n",
      "7082                                Lady Bird  2017            Greta Gerwig   \n",
      "7095                          Pitch Perfect 3  2017               Trish Sie   \n",
      "7097               You Were Never Really Here  2017            Lynne Ramsay   \n",
      "7104                          Berlin Syndrome  2017          Cate Shortland   \n",
      "7111                              Rough Night  2017           Lucia Aniello   \n",
      "7117                             The Beguiled  2017           Sofia Coppola   \n",
      "7125                                  Revenge  2017         Coralie Fargeat   \n",
      "7131                   Everything, Everything  2017           Stella Meghie   \n",
      "7133                           Sweet Virginia  2017           Jamie M. Dagg   \n",
      "7140                          Despicable Me 3  2017              Kyle Balda   \n",
      "7147                            Unforgettable  2017          Denise Di Novi   \n",
      "7150                           Loving Vincent  2017          Dorota Kobiela   \n",
      "7171     Professor Marston & the Wonder Women  2017         Angela Robinson   \n",
      "7172                                The Rider  2017              Chloé Zhao   \n",
      "7178                     The Zookeeper's Wife  2017               Niki Caro   \n",
      "7181                                  Detroit  2017         Kathryn Bigelow   \n",
      "7183                             Megan Leavey  2017  Gabriela Cowperthwaite   \n",
      "7197                 Smurfs: The Lost Village  2017            Kelly Asbury   \n",
      "7217                               Beach Rats  2017           Eliza Hittman   \n",
      "7218                             The Bookshop  2017           Isabel Coixet   \n",
      "7219                             Mary Shelley  2017       Haifaa Al-Mansour   \n",
      "7241                          The Bye Bye Man  2017             Stacy Title   \n",
      "\n",
      "     gender_director  score  \n",
      "7054          female    5.8  \n",
      "7062          female    7.4  \n",
      "7075          female    7.0  \n",
      "7082          female    7.4  \n",
      "7095          female    5.8  \n",
      "7097          female    6.8  \n",
      "7104          female    6.3  \n",
      "7111          female    5.2  \n",
      "7117          female    6.3  \n",
      "7125          female    6.4  \n",
      "7131          female    6.4  \n",
      "7133          female    6.2  \n",
      "7140          female    6.3  \n",
      "7147          female    5.1  \n",
      "7150          female    7.8  \n",
      "7171          female    7.1  \n",
      "7172          female    7.5  \n",
      "7178          female    7.0  \n",
      "7181          female    7.3  \n",
      "7183          female    7.1  \n",
      "7197          female    6.0  \n",
      "7217          female    6.4  \n",
      "7218          female    6.5  \n",
      "7219          female    6.5  \n",
      "7241          female    4.2  \n"
     ]
    }
   ],
   "source": [
    "#Año 2017 (mayor gross)\n",
    "pelis_2017_female = pelis[(pelis['year'] == 2017) & (pelis['gender_director'] == 'female')][['name', 'year', 'director', 'gender_director', 'score']]\n",
    "print(pelis_2017_female)"
   ]
  },
  {
   "cell_type": "markdown",
   "id": "6e9f82af",
   "metadata": {
    "slideshow": {
     "slide_type": "slide"
    }
   },
   "source": [
    "**Actrices**"
   ]
  },
  {
   "cell_type": "code",
   "execution_count": 83,
   "id": "00b958ea",
   "metadata": {
    "slideshow": {
     "slide_type": "subslide"
    }
   },
   "outputs": [
    {
     "name": "stdout",
     "output_type": "stream",
     "text": [
      "                                        name                  star  score\n",
      "3081                            Perfect Blue            Junko Iwao    8.0\n",
      "3114                          Happy Together         Leslie Cheung    7.7\n",
      "3053                            Jackie Brown             Pam Grier    7.5\n",
      "3056                                 Contact          Jodie Foster    7.5\n",
      "3225                               Firelight        Sophie Marceau    7.2\n",
      "3073                                    Cube        Nicole de Boer    7.2\n",
      "3077                               Anastasia              Meg Ryan    7.2\n",
      "3177                              Mrs. Brown            Judi Dench    7.2\n",
      "3188                   The Wings of the Dove  Helena Bonham Carter    7.1\n",
      "3128                               Soul Food      Vanessa Williams    7.0\n",
      "3113                                  Selena        Jennifer Lopez    6.8\n",
      "3231                      Swept from the Sea          Rachel Weisz    6.8\n",
      "3061                           Event Horizon    Laurence Fishburne    6.7\n",
      "3099                       Conspiracy Theory            Mel Gibson    6.7\n",
      "3156                     The Opposite of Sex       Christina Ricci    6.4\n",
      "3121                   Inventing the Abbotts             Liv Tyler    6.4\n",
      "3240                  Smilla's Sense of Snow          Julia Ormond    6.4\n",
      "3196                           Anna Karenina        Sophie Marceau    6.3\n",
      "3083                My Best Friend's Wedding         Julia Roberts    6.3\n",
      "3168                                 Hoodlum    Laurence Fishburne    6.3\n",
      "3066                                Scream 2         Neve Campbell    6.2\n",
      "3072                     Alien: Resurrection      Sigourney Weaver    6.2\n",
      "3087                               The Saint            Val Kilmer    6.2\n",
      "3091  Romy and Michele's High School Reunion          Mira Sorvino    6.2\n",
      "3236                             The Locusts          Kate Capshaw    6.1\n",
      "3161                        Addicted to Love              Meg Ryan    6.1\n",
      "3166                        A Thousand Acres     Michelle Pfeiffer    6.1\n",
      "3108                                   Mimic          Mira Sorvino    6.0\n",
      "3101                               G.I. Jane            Demi Moore    6.0\n",
      "3137                              Wishmaster          Tammy Lauren    5.8\n",
      "3131                               The Relic   Penelope Ann Miller    5.8\n",
      "3071         I Know What You Did Last Summer  Jennifer Love Hewitt    5.7\n",
      "3142                         Picture Perfect      Jennifer Aniston    5.5\n",
      "3172            The Beautician and the Beast         Fran Drescher    5.5\n",
      "3169                          Excess Baggage    Alicia Silverstone    5.4\n",
      "3182                              Booty Call            Jamie Foxx    5.4\n",
      "3234                               Hugo Pool         Alyssa Milano    5.1\n",
      "3195                           That Darn Cat       Christina Ricci    4.7\n",
      "3139                                 B*A*P*S           Halle Berry    4.7\n",
      "3204                               Mr. Magoo        Leslie Nielsen    4.0\n",
      "3086                 Speed 2: Cruise Control        Sandra Bullock    3.9\n",
      "3112                             Spice World                 Mel B    3.5\n"
     ]
    }
   ],
   "source": [
    "#Año 1997 (mayor budget)\n",
    "pelis_1998_female_star = pelis[(pelis['year'] == 1997) & (pelis['gender_star'] == 'female')][['name', 'star', 'score']].sort_values('score', ascending=False)\n",
    "print(pelis_1998_female_star)"
   ]
  },
  {
   "cell_type": "code",
   "execution_count": 87,
   "id": "e08ec105",
   "metadata": {
    "slideshow": {
     "slide_type": "subslide"
    }
   },
   "outputs": [
    {
     "name": "stdout",
     "output_type": "stream",
     "text": [
      "                                                   name  \\\n",
      "4646                                  Pride & Prejudice   \n",
      "4838                                        Joyeux Noel   \n",
      "4667                                        Match Point   \n",
      "4821                                       Transamerica   \n",
      "4763                                      North Country   \n",
      "4659                                          King Kong   \n",
      "4648                                        The Descent   \n",
      "4815                                            Angel-A   \n",
      "4816                                 An Unfinished Life   \n",
      "4767                                          Unleashed   \n",
      "4653  The Chronicles of Narnia: The Lion, the Witch ...   \n",
      "4825                                   The Chumscrubber   \n",
      "4665                                         The Island   \n",
      "4689                                         Mirrormask   \n",
      "4824                                The Upside of Anger   \n",
      "4732                                   Imagine Me & You   \n",
      "4717                         The Exorcism of Emily Rose   \n",
      "4809                                              Proof   \n",
      "4707                                       Nanny McPhee   \n",
      "4818                                      Fierce People   \n",
      "4779                          The Notorious Bettie Page   \n",
      "4745                                             London   \n",
      "4673              The Sisterhood of the Traveling Pants   \n",
      "4736                                   The Skeleton Key   \n",
      "4675                                            Red Eye   \n",
      "4679                                    The Interpreter   \n",
      "4773                                         Hoodwinked   \n",
      "4696                                         Flightplan   \n",
      "4828                                              Prime   \n",
      "4701                                          The Quiet   \n",
      "4819                                             Asylum   \n",
      "4782                                       Ice Princess   \n",
      "4794                                     Must Love Dogs   \n",
      "4743                                             Domino   \n",
      "4748                         Diary of a Mad Black Woman   \n",
      "4823                                        Beauty Shop   \n",
      "4698                                         Dark Water   \n",
      "4742                                     Monster-in-Law   \n",
      "4722                                           Æon Flux   \n",
      "4724                                    Rumor Has It...   \n",
      "4766                                    The Perfect Man   \n",
      "4744                                       The Ring Two   \n",
      "4728                                           The Cave   \n",
      "4757              Miss Congeniality 2: Armed & Fabulous   \n",
      "4756                                             Cursed   \n",
      "4772                                          Bewitched   \n",
      "4749                                Herbie Fully Loaded   \n",
      "4718                                            Elektra   \n",
      "4799                                              Venom   \n",
      "4839                                         Dirty Love   \n",
      "4723                                    Son of the Mask   \n",
      "\n",
      "                       star  score  \n",
      "4646        Keira Knightley    7.8  \n",
      "4838           Diane Kruger    7.7  \n",
      "4667     Scarlett Johansson    7.6  \n",
      "4821       Felicity Huffman    7.4  \n",
      "4763        Charlize Theron    7.3  \n",
      "4659            Naomi Watts    7.2  \n",
      "4648       Shauna Macdonald    7.2  \n",
      "4815          Rie Rasmussen    7.1  \n",
      "4816         Jennifer Lopez    7.0  \n",
      "4767                 Jet Li    7.0  \n",
      "4653          Tilda Swinton    6.9  \n",
      "4825             Jamie Bell    6.9  \n",
      "4665     Scarlett Johansson    6.8  \n",
      "4689     Stephanie Leonidas    6.8  \n",
      "4824             Joan Allen    6.8  \n",
      "4732           Piper Perabo    6.8  \n",
      "4717           Laura Linney    6.7  \n",
      "4809        Gwyneth Paltrow    6.7  \n",
      "4707          Emma Thompson    6.6  \n",
      "4818             Diane Lane    6.5  \n",
      "4779           Gretchen Mol    6.5  \n",
      "4745           Jessica Biel    6.5  \n",
      "4673          Amber Tamblyn    6.5  \n",
      "4736            Kate Hudson    6.5  \n",
      "4675         Rachel McAdams    6.5  \n",
      "4679          Nicole Kidman    6.4  \n",
      "4773          Anne Hathaway    6.4  \n",
      "4696           Jodie Foster    6.3  \n",
      "4828            Uma Thurman    6.2  \n",
      "4701          Camilla Belle    6.2  \n",
      "4819     Natasha Richardson    6.1  \n",
      "4782  Michelle Trachtenberg    6.0  \n",
      "4794             Diane Lane    5.9  \n",
      "4743        Keira Knightley    5.9  \n",
      "4748         Kimberly Elise    5.8  \n",
      "4823          Queen Latifah    5.6  \n",
      "4698      Jennifer Connelly    5.6  \n",
      "4742         Jennifer Lopez    5.6  \n",
      "4722        Charlize Theron    5.5  \n",
      "4724       Jennifer Aniston    5.5  \n",
      "4766            Hilary Duff    5.5  \n",
      "4744            Naomi Watts    5.4  \n",
      "4728           Piper Perabo    5.1  \n",
      "4757         Sandra Bullock    5.1  \n",
      "4756        Christina Ricci    5.0  \n",
      "4772          Nicole Kidman    4.8  \n",
      "4749          Lindsay Lohan    4.8  \n",
      "4718        Jennifer Garner    4.7  \n",
      "4799         Agnes Bruckner    4.6  \n",
      "4839         Jenny McCarthy    3.6  \n",
      "4723          Jamie Kennedy    2.2  \n"
     ]
    }
   ],
   "source": [
    "#Año 2005 (mayor budget)\n",
    "pelis_2005_female_star = pelis[(pelis['year'] == 2005) & (pelis['gender_star'] == 'female')][['name', 'star', 'score']].sort_values('score', ascending=False)\n",
    "print(pelis_2005_female_star)"
   ]
  },
  {
   "cell_type": "code",
   "execution_count": 88,
   "id": "10482050",
   "metadata": {
    "slideshow": {
     "slide_type": "subslide"
    }
   },
   "outputs": [
    {
     "name": "stdout",
     "output_type": "stream",
     "text": [
      "                                            name                 star  score\n",
      "6657                                  Inside Out          Amy Poehler    8.1\n",
      "6663  Star Wars: Episode VII - The Force Awakens         Daisy Ridley    7.8\n",
      "6650                                     Sicario          Emily Blunt    7.6\n",
      "6720                                    Brooklyn        Saoirse Ronan    7.5\n",
      "6773                              Eye in the Sky         Helen Mirren    7.3\n",
      "6771                               Woman in Gold         Helen Mirren    7.3\n",
      "6697                                       Carol       Cate Blanchett    7.2\n",
      "6842                                    45 Years   Charlotte Rampling    7.1\n",
      "6701                              The Dressmaker         Kate Winslet    7.1\n",
      "6676                                         Spy     Melissa McCarthy    7.0\n",
      "6651                                   The Witch      Anya Taylor-Joy    6.9\n",
      "6662                                  Cinderella           Lily James    6.9\n",
      "6759                 The Diary of a Teenage Girl           Bel Powley    6.9\n",
      "6784                   I'll See You in My Dreams        Blythe Danner    6.7\n",
      "6780                                     Grandma          Lily Tomlin    6.7\n",
      "6765                                  Summertime     Cécile de France    6.7\n",
      "6750                         The Lady in the Van         Maggie Smith    6.7\n",
      "6718                                         Joy    Jennifer Lawrence    6.6\n",
      "6774       The Second Best Exotic Marigold Hotel           Judi Dench    6.6\n",
      "6832                     Hello, My Name Is Doris          Sally Field    6.6\n",
      "6673       The Hunger Games: Mockingjay - Part 2    Jennifer Lawrence    6.6\n",
      "6645                                Crimson Peak       Mia Wasikowska    6.5\n",
      "6840                                    War Room  Priscilla C. Shirer    6.5\n",
      "6732                                    The DUFF          Mae Whitman    6.5\n",
      "6743                             A Bigger Splash        Tilda Swinton    6.4\n",
      "6802                               Tale of Tales          Salma Hayek    6.4\n",
      "6730                                   Mr. Right        Anna Kendrick    6.4\n",
      "6786                             Project Almanac        Amy Landecker    6.4\n",
      "6688                                     Minions       Sandra Bullock    6.4\n",
      "6689                             Pitch Perfect 2        Anna Kendrick    6.4\n",
      "6777                                 The Meddler       Susan Sarandon    6.3\n",
      "6798                                    The Lure        Marta Mazurek    6.3\n",
      "6679                                   The Visit       Olivia DeJonge    6.2\n",
      "6691                                  Trainwreck          Amy Schumer    6.2\n",
      "6775                                  Tumbledown         Rebecca Hall    6.2\n",
      "6816                              The Ones Below       Clémence Poésy    6.1\n",
      "6671                                  The Bronze        Melissa Rauch    6.1\n",
      "6827                         Our Brand Is Crisis       Sandra Bullock    6.1\n",
      "6745                                     Sisters          Amy Poehler    6.0\n",
      "6833                         Ricki and the Flash         Meryl Streep    5.9\n",
      "6767                    The Blackcoat's Daughter         Emma Roberts    5.9\n",
      "6826                                     Captive            Kate Mara    5.4\n",
      "6810                          The Lazarus Effect         Olivia Wilde    5.2\n",
      "6801                        90 Minutes in Heaven        Kate Bosworth    4.8\n",
      "6699                           The Boy Next Door       Jennifer Lopez    4.7\n"
     ]
    }
   ],
   "source": [
    "#Año 2015 (mayor gross)\n",
    "pelis_2015_female_star = pelis[(pelis['year'] == 2015) & (pelis['gender_star'] == 'female')][['name', 'star', 'score']].sort_values('score', ascending=False)\n",
    "print(pelis_2015_female_star)"
   ]
  },
  {
   "cell_type": "markdown",
   "id": "1859b477",
   "metadata": {
    "slideshow": {
     "slide_type": "slide"
    }
   },
   "source": [
    "**FIN**"
   ]
  }
 ],
 "metadata": {
  "celltoolbar": "Slideshow",
  "kernelspec": {
   "display_name": "Python 3 (ipykernel)",
   "language": "python",
   "name": "python3"
  },
  "language_info": {
   "codemirror_mode": {
    "name": "ipython",
    "version": 3
   },
   "file_extension": ".py",
   "mimetype": "text/x-python",
   "name": "python",
   "nbconvert_exporter": "python",
   "pygments_lexer": "ipython3",
   "version": "3.9.12"
  }
 },
 "nbformat": 4,
 "nbformat_minor": 5
}
