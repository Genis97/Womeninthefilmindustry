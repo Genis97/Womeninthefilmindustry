{
 "cells": [
  {
   "cell_type": "markdown",
   "id": "0a251427",
   "metadata": {},
   "source": [
    "# Proyecto 2\n",
    "![portada](https://college.unc.edu/wp-content/uploads/sites/1280/2020/05/film1.jpg)"
   ]
  },
  {
   "cell_type": "markdown",
   "id": "49d15922",
   "metadata": {},
   "source": [
    "## 1. Objetivo del Proyecto\n",
    "\n",
    "En este proyecto he realizado un pequeño análisis de 7.700 películas, realizadas desde el año 1980 hasta el 2020. Con la información contenida quería ver si realmente la figura de la mujer en el mundo del cine está infravalorada. En 2020 las mujeres suponieron el 33 % de la industria cinematográfica y el 19 % en las directoras, según reveló el Informe anual sobre el papel de la mujer en el cine elaborado por la Asociación de Mujeres Cineastas de España (CIMA).\n",
    "\n",
    "Podemos encontrar información de los directores, escritores y actores principales de estas películas, junto con información interesante como el presupuesto y beneficios obtenidos."
   ]
  },
  {
   "cell_type": "markdown",
   "id": "540efb39",
   "metadata": {},
   "source": [
    "## 2. Primeros pasos\n",
    "\n",
    "Para realizar este estudio, empezamos realizando algunas hipótesis, relacionadas sobretodo con la figura de la mujer dentro del mundo del cine:\n",
    "\n",
    "    * ¿Las directoras obtienen el mismo número de oportunidades que los hombres para dirigir o actuar como protagonistas en las películas?\n",
    "    * ¿Los presupuestos y beneficios obtenidos són los mismos para ambos géneros?\n",
    "\n",
    "    \n",
    " \n",
    "\n",
    "En este proyecto, teníamos que usar las diferentes herramientas y aprendizage de limpieza de datos, junto con la experiencia adquirida en el segundo módulo para realizar distintas métricas de estadística y visualización de datos.\n",
    "\n",
    "Era necesario averiguar los géneros de los nombres que disponia en el DataFrame, usando distintas librerias y herramientas de Python."
   ]
  },
  {
   "cell_type": "markdown",
   "id": "daa36bc1",
   "metadata": {},
   "source": [
    "## 3. Technology stack 💻\n",
    "* Lenguaje:\n",
    "    * Python\n",
    "* Librerias:\n",
    "    * Numpy\n",
    "    * Pandas\n",
    "    * Matplotlib\n",
    "    * Seaborn\n",
    "    * Requests\n",
    "    * Gender_guesser.detector\n",
    "    * Scipy_stats\n",
    "    * Genderize\n",
    "* Data:\n",
    "    * movies.csv"
   ]
  }
 ],
 "metadata": {
  "kernelspec": {
   "display_name": "Python 3 (ipykernel)",
   "language": "python",
   "name": "python3"
  },
  "language_info": {
   "codemirror_mode": {
    "name": "ipython",
    "version": 3
   },
   "file_extension": ".py",
   "mimetype": "text/x-python",
   "name": "python",
   "nbconvert_exporter": "python",
   "pygments_lexer": "ipython3",
   "version": "3.9.12"
  }
 },
 "nbformat": 4,
 "nbformat_minor": 5
}
